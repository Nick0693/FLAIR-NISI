{
 "cells": [
  {
   "cell_type": "code",
   "execution_count": null,
   "id": "6ace40b1-8ba6-455d-a41e-0652952578fa",
   "metadata": {},
   "outputs": [],
   "source": [
    "import os\n",
    "from zone_detect.main import detect\n",
    "\n",
    "default_config = {\n",
    "    'output_path': '',\n",
    "    'output_name': '',\n",
    "    'input_img_path': '',\n",
    "    'channels': [1, 2, 3, 4],\n",
    "    'img_pixels_detection': 512,\n",
    "    'margin': 128,\n",
    "    'output_type': 'argmax',\n",
    "    'n_classes': 19,\n",
    "    'model_weights': 'D:\\\\NISI\\\\github\\\\FLAIR-1\\\\configs\\\\FLAIR-INC_rgbi_15cl_resnet34-unet_weights.pth',\n",
    "    'model_framework': {\n",
    "        'model_provider': 'SegmentationModelsPytorch',\n",
    "        'HuggingFace': {'org_model': None},\n",
    "        'SegmentationModelsPytorch': {'encoder_decoder': 'resnet34_unet'}\n",
    "    },\n",
    "    'batch_size': 4,\n",
    "    'use_gpu': True,\n",
    "    'num_worker': 0,\n",
    "    'write_dataframe': False,\n",
    "    'norma_task': [{\n",
    "        'norm_type': 'custom',\n",
    "        'norm_means': [105.08, 110.87, 101.82, 106.38],\n",
    "        'norm_stds': [52.17, 45.38, 44, 39.69]\n",
    "    }]\n",
    "}"
   ]
  },
  {
   "cell_type": "code",
   "execution_count": null,
   "id": "4a11eb77-fbc9-4858-afef-ca10504258e4",
   "metadata": {
    "scrolled": true
   },
   "outputs": [],
   "source": [
    "config = default_config.copy()\n",
    "config.update({\n",
    "    'output_path' : ,\n",
    "    'output_name' : ,\n",
    "    'input_img_path' : ,\n",
    "    'model_weights' : ,\n",
    "    'channels' : [1, 2, 3],\n",
    "    'use_gpu' : True,\n",
    "    'output_type' : 'argmax'\n",
    "})\n",
    "    \n",
    "detect(config)"
   ]
  },
  {
   "cell_type": "markdown",
   "id": "9cfe11d5-a921-4d88-ada0-cbad4d140185",
   "metadata": {},
   "source": [
    "### 2022"
   ]
  },
  {
   "cell_type": "code",
   "execution_count": null,
   "id": "2549b6d9-5b17-4ff7-ad17-3f0d0d286169",
   "metadata": {
    "scrolled": true
   },
   "outputs": [],
   "source": [
    "wrk_dir = r'\\\\dkcph1-stor2.dhi.dk\\projects\\11831951_WS\\orthophotos\\Thy\\tiles\\RGB_2022'\n",
    "filelist = glob(os.path.join(wrk_dir, '*.tif'))\n",
    "for fp in filelist:\n",
    "    config = default_config.copy()\n",
    "    config.update({\n",
    "        'output_path' : r'\\\\dkcph1-stor2.dhi.dk\\projects\\11831951_WS\\orthophotos\\Thy\\tiles\\flair\\SOP2022',\n",
    "        'output_name' : Path(fp).stem+'_LULC.tif',\n",
    "        'input_img_path' : fp,\n",
    "        'model_weights' : r'D:\\NISI\\github\\FLAIR-1\\configs\\FLAIR-INC_rgb_12cl_resnet34-unet_weights.pth',\n",
    "        'channels' : [1, 2, 3],\n",
    "        'use_gpu' : True,\n",
    "        'output_type' : 'class_prob'\n",
    "    })\n",
    "    \n",
    "    detect(config)"
   ]
  },
  {
   "cell_type": "markdown",
   "id": "4c38286b-276e-4428-bec5-3839b6210e20",
   "metadata": {},
   "source": [
    "### 2016"
   ]
  },
  {
   "cell_type": "code",
   "execution_count": null,
   "id": "7afef92e-cf80-478f-8ad7-371834beadb4",
   "metadata": {
    "scrolled": true
   },
   "outputs": [],
   "source": [
    "wrk_dir = r'\\\\dkcph1-stor2.dhi.dk\\projects\\11831951_WS\\orthophotos\\Thy\\tiles\\RGB_2016'\n",
    "filelist = glob(os.path.join(wrk_dir, '*.tif'))\n",
    "for fp in filelist:\n",
    "    config = default_config.copy()\n",
    "    config.update({\n",
    "        'output_path' : r'\\\\dkcph1-stor2.dhi.dk\\projects\\11831951_WS\\orthophotos\\Thy\\tiles\\flair\\SOP2016',\n",
    "        'output_name' : Path(fp).stem+'_LULC.tif',\n",
    "        'input_img_path' : fp,\n",
    "        'model_weights' : r'D:\\NISI\\github\\FLAIR-1\\configs\\FLAIR-INC_rgb_12cl_resnet34-unet_weights.pth',\n",
    "        'channels' : [1, 2, 3],\n",
    "        'use_gpu' : True,\n",
    "        'output_type' : 'class_prob'\n",
    "    })\n",
    "    \n",
    "    detect(config)"
   ]
  },
  {
   "cell_type": "markdown",
   "id": "23f2bc71-4707-48e2-a197-1bed593c4719",
   "metadata": {},
   "source": [
    "### 2008"
   ]
  },
  {
   "cell_type": "code",
   "execution_count": null,
   "id": "beb7bda2-fd89-45cb-b9f8-4182ceb53450",
   "metadata": {},
   "outputs": [],
   "source": [
    "wrk_dir = r'\\\\dkcph1-stor2.dhi.dk\\projects\\11831951_WS\\orthophotos\\Thy\\tiles\\RGB_2008'\n",
    "filelist = glob(os.path.join(wrk_dir, '*.tif'))\n",
    "for fp in filelist:\n",
    "    config = default_config.copy()\n",
    "    config.update({\n",
    "        'output_path' : r'\\\\dkcph1-stor2.dhi.dk\\projects\\11831951_WS\\orthophotos\\Thy\\tiles\\flair\\SOP2008',\n",
    "        'output_name' : Path(fp).stem+'_LULC.tif',\n",
    "        'input_img_path' : fp,\n",
    "        'model_weights' : r'D:\\NISI\\github\\FLAIR-1\\configs\\FLAIR-INC_rgb_12cl_resnet34-unet_weights.pth',\n",
    "        'channels' : [1, 2, 3],\n",
    "        'use_gpu' : True,\n",
    "        'output_type' : 'class_prob'\n",
    "    })\n",
    "    \n",
    "    detect(config)"
   ]
  },
  {
   "cell_type": "markdown",
   "id": "198f07e2-694e-462a-afc8-cbb28cbb19bf",
   "metadata": {},
   "source": [
    "***"
   ]
  },
  {
   "cell_type": "code",
   "execution_count": null,
   "id": "d779dccf-1437-4066-af97-67b20ee749e9",
   "metadata": {},
   "outputs": [],
   "source": [
    "config = default_config.copy()\n",
    "config.update({\n",
    "    'output_path' : r'D:\\UrbanMapping\\UM_Boras\\results\\flairtest',\n",
    "    'output_name' : '638_35_2575_2022.tif',\n",
    "    'input_img_path' : r'D:\\UrbanMapping\\UM_Boras\\input\\638_35_2575_2022.tif',\n",
    "    # 'model_weights' : r'D:\\NISI\\github\\FLAIR-1\\configs\\FLAIR-INC_rgb_12cl_resnet34-unet_weights.pth',\n",
    "    'channels' : [1, 2, 3, 4],\n",
    "    'use_gpu' : True\n",
    "})\n",
    "\n",
    "detect(config)"
   ]
  },
  {
   "cell_type": "code",
   "execution_count": null,
   "id": "b6fd2e70-dd26-4d1f-a7be-6b13d06773e8",
   "metadata": {},
   "outputs": [],
   "source": [
    "with rst.open(os.path.join(config['output_path'], config['output_name'])) as src:\n",
    "    img = src.read(1)\n",
    "    meta = src.meta.copy()\n",
    "\n",
    "with rst.open(config['input_img_path']) as src:\n",
    "    data = src.read()\n",
    "    nodata_mask = (data==0).all(axis=0)\n",
    "\n",
    "arr = np.zeros(img.shape, dtype='uint8')\n",
    "arr[(img==1) | (img==3)] = 2 # bare soil\n",
    "arr[(img==0) | (img==2)] = 3 # impervious\n",
    "arr[img==4] = 4 # water\n",
    "arr[img==5] = 5 # shrubs\n",
    "arr[(img==6) | (img==7)] = 6 # canopy\n",
    "arr[img==9] = 7 # herbaceous\n",
    "arr[img==11] = 10 # plantations\n",
    "arr[img==10] = 10 # agriculture\n",
    "arr[(img==8) | (img>11)] = 11 # other\n",
    "# arr[roof==1] = 1 # building\n",
    "# arr[greenroof==1] = 8 # greenroof\n",
    "arr[nodata_mask] = 0 # nodata\n",
    "\n",
    "with rst.open(os.path.join(config['output_path'], f'{Path(config[\"output_name\"]).stem}_post.tif'), 'w', **meta) as dst:\n",
    "    dst.write(arr, 1)"
   ]
  },
  {
   "cell_type": "code",
   "execution_count": null,
   "id": "a7edf057-b9f9-4107-9bf9-15b5eaae7d8b",
   "metadata": {},
   "outputs": [],
   "source": [
    "## reduce the number of land cover classes to canopy/no-canopy\n",
    "with rst.open(os.path.join(config['output_path'], config['output_name'])) as src:\n",
    "    data = src.read(1)\n",
    "    meta = src.meta.copy()\n",
    "    \n",
    "arr = np.zeros(data.shape, dtype='uint8')\n",
    "arr[np.logical_or(data==5, data==6)] = 1\n",
    "arr[data==7] = 2\n",
    "arr[data==9] = 3\n",
    "\n",
    "with rst.open(os.path.join(config['output_path'], f'{Path(config[\"output_name\"]).stem}_veg.tif'), 'w', **meta) as dst:\n",
    "    dst.write(arr, 1)"
   ]
  },
  {
   "cell_type": "code",
   "execution_count": null,
   "id": "f3382d60-d793-498f-8aee-b9f50ac35068",
   "metadata": {},
   "outputs": [],
   "source": [
    "wrk_dir = r'D:\\LBST\\2024\\A2B'\n",
    "remote_dir = r'\\\\DKCPH1-STOR2.DHI.DK\\Projects\\11828477-02_WS\\tasks\\A2B'\n",
    "in_parcels = os.path.join(remote_dir, 'results', 'parcels_A2B_20240923_0838.shp')\n",
    "parcels = read_dataframe(in_parcels).to_crs('epsg:25832').set_index('foi_id')"
   ]
  },
  {
   "cell_type": "code",
   "execution_count": null,
   "id": "119147f0-6b9c-476d-9041-9f192c69b660",
   "metadata": {
    "scrolled": true
   },
   "outputs": [],
   "source": [
    "filelist = glob(r'D:\\LBST\\2024\\A2B\\input\\parcels\\*_*.tif')\n",
    "for fp in filelist:\n",
    "    pid = Path(fp).stem\n",
    "    print(pid)\n",
    "    config = default_config.copy()\n",
    "    config.update({\n",
    "        'output_path' : os.path.join(wrk_dir, 'results', 'canopy'),\n",
    "        'output_name' : f'{pid}.tif',\n",
    "        'input_img_path' : os.path.join(wrk_dir, 'input', 'parcels', f'{pid}.tif'),\n",
    "        'use_gpu' : True\n",
    "    })\n",
    "    \n",
    "    detect(config)\n",
    "    \n",
    "    ## reduce the number of land cover classes to canopy/no-canopy\n",
    "    with rst.open(os.path.join(config['output_path'], config['output_name'])) as src:\n",
    "        data = src.read(1)\n",
    "        transform = src.transform\n",
    "        crs = src.crs\n",
    "        \n",
    "    arr = np.zeros(data.shape, dtype='uint8')\n",
    "    arr[np.logical_or(data==5, data==6)] = 1\n",
    "    arr[data==7] = 2\n",
    "    \n",
    "    ## vectorize and simplify canopy classification\n",
    "    vector = vectorize(arr, transform=transform, nodata=0, crs=crs)\n",
    "    vector = vector.clip(parcels.loc[int(pid.split('_')[0])].geometry)\n",
    "    vector = vector.set_geometry(vector.simplify(0.2))\n",
    "    # vector = vector[vector.area>=5]\n",
    "    shrubs = gpd.GeoDataFrame(\n",
    "        geometry=vector[vector['raster_val']==2].dissolve().difference(vector[vector['raster_val']==1].dissolve()),\n",
    "        data={'raster_val':[2]}\n",
    "    )\n",
    "    trees = vector[vector['raster_val']==1].dissolve()\n",
    "    vector = pd.concat([trees, shrubs])\n",
    "    write_dataframe(vector, os.path.join(config['output_path'], f'{pid}.geojson'))\n",
    "    \n",
    "    # ## query points within the polygons only\n",
    "    # points = read_dataframe(os.path.join(wrk_dir, 'results', 'points', f'{pid}.geojson'))\n",
    "    # if not points.empty:\n",
    "    #     points = points.dissolve().geometry[0].intersection(vector.dissolve().geometry[0])\n",
    "    #     points = gpd.GeoDataFrame(geometry=gpd.GeoSeries(points), crs=crs)\n",
    "    #     write_dataframe(points, os.path.join(wrk_dir, 'results', 'points_within', f'{pid}.geojson'))"
   ]
  }
 ],
 "metadata": {
  "kernelspec": {
   "display_name": "Python 3 (ipykernel)",
   "language": "python",
   "name": "python3"
  },
  "language_info": {
   "codemirror_mode": {
    "name": "ipython",
    "version": 3
   },
   "file_extension": ".py",
   "mimetype": "text/x-python",
   "name": "python",
   "nbconvert_exporter": "python",
   "pygments_lexer": "ipython3",
   "version": "3.11.6"
  }
 },
 "nbformat": 4,
 "nbformat_minor": 5
}
